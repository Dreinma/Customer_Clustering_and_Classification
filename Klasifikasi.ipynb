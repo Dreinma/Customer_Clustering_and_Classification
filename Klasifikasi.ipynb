{
  "cells": [
    {
      "cell_type": "markdown",
      "metadata": {
        "id": "0tvAKGat01Sd"
      },
      "source": [
        "# **Penting**\n",
        "- Pastikan Anda melakukan Run All sebelum mengirimkan submission untuk memastikan seluruh cell berjalan dengan baik.\n",
        "- Hapus simbol pagar (#) jika Anda menerapkan kriteria tambahan\n",
        "- Biarkan simbol pagar (#) jika Anda tidak menerapkan kriteria tambahan\n",
        "- Pastikan Anda mengerjakan sesuai section yang sudah diberikan tanpa mengubah judul atau header yang disediakan."
      ]
    },
    {
      "cell_type": "markdown",
      "metadata": {
        "id": "fKADPWcFKlj3"
      },
      "source": [
        "# **1. Import Library**\n",
        "Pada tahap ini, Anda perlu mengimpor beberapa pustaka (library) Python yang dibutuhkan untuk analisis data dan pembangunan model machine learning."
      ]
    },
    {
      "cell_type": "code",
      "execution_count": 1,
      "metadata": {
        "id": "BlmvjLY9M4Yj"
      },
      "outputs": [],
      "source": [
        "import pandas as pd\n",
        "import numpy as np\n",
        "import joblib\n",
        "import matplotlib.pyplot as plt\n",
        "import seaborn as sns\n",
        "from sklearn.model_selection import train_test_split, GridSearchCV\n",
        "from sklearn.tree import DecisionTreeClassifier\n",
        "from sklearn.ensemble import RandomForestClassifier, GradientBoostingClassifier\n",
        "from sklearn.metrics import classification_report, accuracy_score, confusion_matrix\n",
        "import warnings\n",
        "warnings.filterwarnings('ignore')"
      ]
    },
    {
      "cell_type": "markdown",
      "metadata": {
        "id": "f3YIEnAFKrKL"
      },
      "source": [
        "# **2. Memuat Dataset dari Hasil Clustering**\n",
        "Memuat dataset hasil clustering dari file CSV ke dalam variabel DataFrame."
      ]
    },
    {
      "cell_type": "code",
      "execution_count": 2,
      "metadata": {},
      "outputs": [],
      "source": [
        "df = pd.read_csv('data_clustering.csv')"
      ]
    },
    {
      "cell_type": "code",
      "execution_count": 3,
      "metadata": {
        "id": "bCsep0NZ0LUf"
      },
      "outputs": [
        {
          "data": {
            "text/html": [
              "<div>\n",
              "<style scoped>\n",
              "    .dataframe tbody tr th:only-of-type {\n",
              "        vertical-align: middle;\n",
              "    }\n",
              "\n",
              "    .dataframe tbody tr th {\n",
              "        vertical-align: top;\n",
              "    }\n",
              "\n",
              "    .dataframe thead th {\n",
              "        text-align: right;\n",
              "    }\n",
              "</style>\n",
              "<table border=\"1\" class=\"dataframe\">\n",
              "  <thead>\n",
              "    <tr style=\"text-align: right;\">\n",
              "      <th></th>\n",
              "      <th>TransactionAmount</th>\n",
              "      <th>TransactionType</th>\n",
              "      <th>Location</th>\n",
              "      <th>Channel</th>\n",
              "      <th>CustomerOccupation</th>\n",
              "      <th>TransactionDuration</th>\n",
              "      <th>LoginAttempts</th>\n",
              "      <th>AccountBalance</th>\n",
              "      <th>TransactionHour</th>\n",
              "      <th>DayOfWeek</th>\n",
              "      <th>IsWeekend</th>\n",
              "      <th>TransactionToBalanceRatio</th>\n",
              "      <th>AgeGroup</th>\n",
              "      <th>Target</th>\n",
              "    </tr>\n",
              "  </thead>\n",
              "  <tbody>\n",
              "    <tr>\n",
              "      <th>0</th>\n",
              "      <td>-1.080281</td>\n",
              "      <td>1</td>\n",
              "      <td>36</td>\n",
              "      <td>0</td>\n",
              "      <td>0</td>\n",
              "      <td>-0.552784</td>\n",
              "      <td>-0.204672</td>\n",
              "      <td>-0.000326</td>\n",
              "      <td>-0.848404</td>\n",
              "      <td>-0.297763</td>\n",
              "      <td>0.0</td>\n",
              "      <td>-0.383288</td>\n",
              "      <td>1</td>\n",
              "      <td>1</td>\n",
              "    </tr>\n",
              "    <tr>\n",
              "      <th>1</th>\n",
              "      <td>0.371339</td>\n",
              "      <td>1</td>\n",
              "      <td>15</td>\n",
              "      <td>0</td>\n",
              "      <td>0</td>\n",
              "      <td>0.309031</td>\n",
              "      <td>-0.204672</td>\n",
              "      <td>2.230061</td>\n",
              "      <td>-0.848404</td>\n",
              "      <td>-0.297763</td>\n",
              "      <td>0.0</td>\n",
              "      <td>-0.332897</td>\n",
              "      <td>1</td>\n",
              "      <td>0</td>\n",
              "    </tr>\n",
              "    <tr>\n",
              "      <th>2</th>\n",
              "      <td>-0.630545</td>\n",
              "      <td>1</td>\n",
              "      <td>23</td>\n",
              "      <td>2</td>\n",
              "      <td>3</td>\n",
              "      <td>-0.911874</td>\n",
              "      <td>-0.204672</td>\n",
              "      <td>-1.029497</td>\n",
              "      <td>1.888910</td>\n",
              "      <td>-0.962247</td>\n",
              "      <td>0.0</td>\n",
              "      <td>-0.158338</td>\n",
              "      <td>2</td>\n",
              "      <td>1</td>\n",
              "    </tr>\n",
              "    <tr>\n",
              "      <th>3</th>\n",
              "      <td>-0.397220</td>\n",
              "      <td>1</td>\n",
              "      <td>33</td>\n",
              "      <td>2</td>\n",
              "      <td>3</td>\n",
              "      <td>-1.357146</td>\n",
              "      <td>-0.204672</td>\n",
              "      <td>0.891357</td>\n",
              "      <td>-0.848404</td>\n",
              "      <td>1.695690</td>\n",
              "      <td>0.0</td>\n",
              "      <td>-0.344812</td>\n",
              "      <td>2</td>\n",
              "      <td>1</td>\n",
              "    </tr>\n",
              "    <tr>\n",
              "      <th>4</th>\n",
              "      <td>-1.082846</td>\n",
              "      <td>0</td>\n",
              "      <td>1</td>\n",
              "      <td>2</td>\n",
              "      <td>3</td>\n",
              "      <td>1.127756</td>\n",
              "      <td>-0.204672</td>\n",
              "      <td>0.597386</td>\n",
              "      <td>0.520253</td>\n",
              "      <td>-0.962247</td>\n",
              "      <td>0.0</td>\n",
              "      <td>-0.385226</td>\n",
              "      <td>0</td>\n",
              "      <td>0</td>\n",
              "    </tr>\n",
              "  </tbody>\n",
              "</table>\n",
              "</div>"
            ],
            "text/plain": [
              "   TransactionAmount  TransactionType  Location  Channel  CustomerOccupation  \\\n",
              "0          -1.080281                1        36        0                   0   \n",
              "1           0.371339                1        15        0                   0   \n",
              "2          -0.630545                1        23        2                   3   \n",
              "3          -0.397220                1        33        2                   3   \n",
              "4          -1.082846                0         1        2                   3   \n",
              "\n",
              "   TransactionDuration  LoginAttempts  AccountBalance  TransactionHour  \\\n",
              "0            -0.552784      -0.204672       -0.000326        -0.848404   \n",
              "1             0.309031      -0.204672        2.230061        -0.848404   \n",
              "2            -0.911874      -0.204672       -1.029497         1.888910   \n",
              "3            -1.357146      -0.204672        0.891357        -0.848404   \n",
              "4             1.127756      -0.204672        0.597386         0.520253   \n",
              "\n",
              "   DayOfWeek  IsWeekend  TransactionToBalanceRatio  AgeGroup  Target  \n",
              "0  -0.297763        0.0                  -0.383288         1       1  \n",
              "1  -0.297763        0.0                  -0.332897         1       0  \n",
              "2  -0.962247        0.0                  -0.158338         2       1  \n",
              "3   1.695690        0.0                  -0.344812         2       1  \n",
              "4  -0.962247        0.0                  -0.385226         0       0  "
            ]
          },
          "execution_count": 3,
          "metadata": {},
          "output_type": "execute_result"
        }
      ],
      "source": [
        "df.head()"
      ]
    },
    {
      "cell_type": "code",
      "execution_count": 4,
      "metadata": {},
      "outputs": [
        {
          "name": "stdout",
          "output_type": "stream",
          "text": [
            "Distribusi Kelas pada Kolom Target:\n",
            "Target\n",
            "0    1298\n",
            "1    1217\n",
            "Name: count, dtype: int64\n"
          ]
        },
        {
          "data": {
            "image/png": "[encoded data removed]",
            "text/plain": [
              "<Figure size 640x480 with 1 Axes>"
            ]
          },
          "metadata": {},
          "output_type": "display_data"
        }
      ],
      "source": [
        "# Pengecekan distribusi kelas pada Target untuk melihat keseimbangan data\n",
        "print(\"Distribusi Kelas pada Kolom Target:\")\n",
        "print(df['Target'].value_counts())\n",
        "\n",
        "# Visualisasi distribusi kelas\n",
        "sns.countplot(x='Target', data=df)\n",
        "plt.title('Distribusi Kelas Target')\n",
        "plt.show()"
      ]
    },
    {
      "cell_type": "markdown",
      "metadata": {
        "id": "KkPem5eWL2UP"
      },
      "source": [
        "# **3. Data Splitting**\n",
        "Tahap Data Splitting bertujuan untuk memisahkan dataset menjadi dua bagian: data latih (training set) dan data uji (test set)."
      ]
    },
    {
      "cell_type": "code",
      "execution_count": 5,
      "metadata": {
        "id": "OubAW-7ONKVj"
      },
      "outputs": [
        {
          "name": "stdout",
          "output_type": "stream",
          "text": [
            "Ukuran data latih (X_train): (2012, 13)\n",
            "Ukuran data uji (X_test): (503, 13)\n"
          ]
        }
      ],
      "source": [
        "# Menggunakan train_test_split() untuk melakukan pembagian dataset.\n",
        "\n",
        "X = df.drop('Target', axis=1)\n",
        "y = df['Target']\n",
        "\n",
        "X_train, X_test, y_train, y_test = train_test_split(\n",
        "    X, y, test_size=0.2, random_state=42, stratify=y\n",
        ")\n",
        "\n",
        "print(f\"Ukuran data latih (X_train): {X_train.shape}\")\n",
        "print(f\"Ukuran data uji (X_test): {X_test.shape}\")"
      ]
    },
    {
      "cell_type": "markdown",
      "metadata": {
        "id": "IVPbB03CMhTT"
      },
      "source": [
        "# **4. Membangun Model Klasifikasi**\n",
        "Setelah memilih algoritma klasifikasi yang sesuai, langkah selanjutnya adalah melatih model menggunakan data latih.\n",
        "\n",
        "Berikut adalah rekomendasi tahapannya.\n",
        "1. Menggunakan algoritma klasifikasi yaitu Decision Tree.\n",
        "2. Latih model menggunakan data yang sudah dipisah."
      ]
    },
    {
      "cell_type": "code",
      "execution_count": 6,
      "metadata": {
        "id": "4JYxBe87NLDk"
      },
      "outputs": [
        {
          "name": "stdout",
          "output_type": "stream",
          "text": [
            "Model Decision Tree berhasil dilatih.\n"
          ]
        }
      ],
      "source": [
        "model_dt = DecisionTreeClassifier(random_state=42)\n",
        "model_dt.fit(X_train, y_train)\n",
        "\n",
        "print(\"Model Decision Tree berhasil dilatih.\")"
      ]
    },
    {
      "cell_type": "code",
      "execution_count": 7,
      "metadata": {
        "id": "P_AakAxghYv-"
      },
      "outputs": [
        {
          "name": "stdout",
          "output_type": "stream",
          "text": [
            "Model Decision Tree telah disimpan sebagai 'decision_tree_model.h5'\n"
          ]
        }
      ],
      "source": [
        "# Menyimpan Model\n",
        "joblib.dump(model_dt, 'decision_tree_model.h5')\n",
        "print(\"Model Decision Tree telah disimpan sebagai 'decision_tree_model.h5'\")"
      ]
    },
    {
      "cell_type": "markdown",
      "metadata": {
        "id": "epO4HhrzBXMg"
      },
      "source": [
        "# **5. Memenuhi Kriteria Skilled dan Advanced dalam Membangun Model Klasifikasi**\n",
        "\n"
      ]
    },
    {
      "cell_type": "markdown",
      "metadata": {
        "id": "DNOEZk24uiXu"
      },
      "source": [
        "**Biarkan kosong jika tidak menerapkan kriteria skilled atau advanced**"
      ]
    },
    {
      "cell_type": "code",
      "execution_count": 8,
      "metadata": {
        "id": "kB_8LIWMATl6"
      },
      "outputs": [
        {
          "name": "stdout",
          "output_type": "stream",
          "text": [
            "Model Random Forest berhasil dilatih.\n",
            "Model Gradient Boosting berhasil dilatih.\n"
          ]
        }
      ],
      "source": [
        "# Model RandomForest\n",
        "model_rf = RandomForestClassifier(random_state=42)\n",
        "model_rf.fit(X_train, y_train)\n",
        "print(\"Model Random Forest berhasil dilatih.\")\n",
        "\n",
        "# Model GradientBoosting\n",
        "model_gb = GradientBoostingClassifier(random_state=42)\n",
        "model_gb.fit(X_train, y_train)\n",
        "print(\"Model Gradient Boosting berhasil dilatih.\")"
      ]
    },
    {
      "cell_type": "code",
      "execution_count": 9,
      "metadata": {
        "id": "bRlKm5BVAT91"
      },
      "outputs": [
        {
          "name": "stdout",
          "output_type": "stream",
          "text": [
            "--- Laporan Evaluasi untuk: Decision Tree ---\n",
            "Akurasi: 1.0000\n",
            "Classification Report:\n",
            "              precision    recall  f1-score   support\n",
            "\n",
            "           0       1.00      1.00      1.00       260\n",
            "           1       1.00      1.00      1.00       243\n",
            "\n",
            "    accuracy                           1.00       503\n",
            "   macro avg       1.00      1.00      1.00       503\n",
            "weighted avg       1.00      1.00      1.00       503\n",
            "\n"
          ]
        },
        {
          "data": {
            "image/png": "[encoded data removed]",
            "text/plain": [
              "<Figure size 640x480 with 2 Axes>"
            ]
          },
          "metadata": {},
          "output_type": "display_data"
        },
        {
          "name": "stdout",
          "output_type": "stream",
          "text": [
            "--------------------------------------------------\n",
            "\n",
            "--- Laporan Evaluasi untuk: Random Forest ---\n",
            "Akurasi: 1.0000\n",
            "Classification Report:\n",
            "              precision    recall  f1-score   support\n",
            "\n",
            "           0       1.00      1.00      1.00       260\n",
            "           1       1.00      1.00      1.00       243\n",
            "\n",
            "    accuracy                           1.00       503\n",
            "   macro avg       1.00      1.00      1.00       503\n",
            "weighted avg       1.00      1.00      1.00       503\n",
            "\n"
          ]
        },
        {
          "data": {
            "image/png": "[encoded data removed]",
            "text/plain": [
              "<Figure size 640x480 with 2 Axes>"
            ]
          },
          "metadata": {},
          "output_type": "display_data"
        },
        {
          "name": "stdout",
          "output_type": "stream",
          "text": [
            "--------------------------------------------------\n",
            "\n",
            "--- Laporan Evaluasi untuk: Gradient Boosting ---\n",
            "Akurasi: 1.0000\n",
            "Classification Report:\n",
            "              precision    recall  f1-score   support\n",
            "\n",
            "           0       1.00      1.00      1.00       260\n",
            "           1       1.00      1.00      1.00       243\n",
            "\n",
            "    accuracy                           1.00       503\n",
            "   macro avg       1.00      1.00      1.00       503\n",
            "weighted avg       1.00      1.00      1.00       503\n",
            "\n"
          ]
        },
        {
          "data": {
            "image/png": "[encoded data removed]",
            "text/plain": [
              "<Figure size 640x480 with 2 Axes>"
            ]
          },
          "metadata": {},
          "output_type": "display_data"
        },
        {
          "name": "stdout",
          "output_type": "stream",
          "text": [
            "--------------------------------------------------\n",
            "\n"
          ]
        }
      ],
      "source": [
        "# Membuat fungsi untuk evaluasi\n",
        "def evaluate_model(model, X_test, y_test, model_name):\n",
        "    y_pred = model.predict(X_test)\n",
        "    accuracy = accuracy_score(y_test, y_pred)\n",
        "    report = classification_report(y_test, y_pred)\n",
        "    \n",
        "    print(f\"--- Laporan Evaluasi untuk: {model_name} ---\")\n",
        "    print(f\"Akurasi: {accuracy:.4f}\")\n",
        "    print(\"Classification Report:\")\n",
        "    print(report)\n",
        "    \n",
        "    # Visualisasi Confusion Matrix\n",
        "    cm = confusion_matrix(y_test, y_pred)\n",
        "    sns.heatmap(cm, annot=True, fmt='d', cmap='Blues')\n",
        "    plt.title(f'Confusion Matrix - {model_name}')\n",
        "    plt.xlabel('Prediksi')\n",
        "    plt.ylabel('Aktual')\n",
        "    plt.show()\n",
        "    print(\"-\" * 50 + \"\\n\")\n",
        "\n",
        "# Evaluasi setiap model\n",
        "evaluate_model(model_dt, X_test, y_test, \"Decision Tree\")\n",
        "evaluate_model(model_rf, X_test, y_test, \"Random Forest\")\n",
        "evaluate_model(model_gb, X_test, y_test, \"Gradient Boosting\")"
      ]
    },
    {
      "cell_type": "code",
      "execution_count": 10,
      "metadata": {
        "id": "dUPItkbXBNkO"
      },
      "outputs": [
        {
          "name": "stdout",
          "output_type": "stream",
          "text": [
            "Model RandomForest dan GradientBoosting telah disimpan.\n"
          ]
        }
      ],
      "source": [
        "# Menyimpan Model Selain Decision Tree\n",
        "joblib.dump(model_rf, 'explore_RandomForest_classification.h5')\n",
        "joblib.dump(model_gb, 'explore_GradientBoosting_classification.h5')\n",
        "print(\"Model RandomForest dan GradientBoosting telah disimpan.\")"
      ]
    },
    {
      "cell_type": "markdown",
      "metadata": {
        "id": "u23H2guj-h9h"
      },
      "source": [
        "Hyperparameter Tuning Model\n",
        "\n",
        "Pilih salah satu algoritma yang ingin Anda tuning"
      ]
    },
    {
      "cell_type": "code",
      "execution_count": 11,
      "metadata": {
        "id": "dFCTxJJq-m-l"
      },
      "outputs": [
        {
          "name": "stdout",
          "output_type": "stream",
          "text": [
            "Memulai Hyperparameter Tuning untuk Random Forest...\n",
            "Fitting 5 folds for each of 24 candidates, totalling 120 fits\n",
            "\n",
            "Parameter terbaik yang ditemukan:\n",
            "{'max_depth': 10, 'min_samples_leaf': 1, 'min_samples_split': 2, 'n_estimators': 100}\n"
          ]
        }
      ],
      "source": [
        "# Lakukan Hyperparameter Tuning dan Latih ulang.\n",
        "# Asumsikan RandomForest adalah yang terbaik.\n",
        "\n",
        "# Mendefinisikan parameter grid untuk dicari\n",
        "param_grid = {\n",
        "    'n_estimators': [100, 200],\n",
        "    'max_depth': [10, 20, None],\n",
        "    'min_samples_split': [2, 5],\n",
        "    'min_samples_leaf': [1, 2]\n",
        "}\n",
        "\n",
        "# Membuat objek GridSearchCV\n",
        "grid_search = GridSearchCV(\n",
        "    estimator=RandomForestClassifier(random_state=42),\n",
        "    param_grid=param_grid,\n",
        "    cv=5, # 5-fold cross-validation\n",
        "    n_jobs=-1, # Menggunakan semua core CPU\n",
        "    scoring='f1_weighted', # Metrik evaluasi yang difokuskan\n",
        "    verbose=1\n",
        ")\n",
        "\n",
        "# Melatih GridSearchCV\n",
        "print(\"Memulai Hyperparameter Tuning untuk Random Forest...\")\n",
        "grid_search.fit(X_train, y_train)\n",
        "\n",
        "# Menampilkan parameter terbaik\n",
        "print(\"\\nParameter terbaik yang ditemukan:\")\n",
        "print(grid_search.best_params_)\n",
        "\n",
        "# Model terbaik setelah tuning\n",
        "best_rf_model = grid_search.best_estimator_\n"
      ]
    },
    {
      "cell_type": "code",
      "execution_count": 12,
      "metadata": {
        "id": "1g6EPSSWxjcQ"
      },
      "outputs": [
        {
          "name": "stdout",
          "output_type": "stream",
          "text": [
            "--- Laporan Evaluasi untuk: Tuned Random Forest ---\n",
            "Akurasi: 1.0000\n",
            "Classification Report:\n",
            "              precision    recall  f1-score   support\n",
            "\n",
            "           0       1.00      1.00      1.00       260\n",
            "           1       1.00      1.00      1.00       243\n",
            "\n",
            "    accuracy                           1.00       503\n",
            "   macro avg       1.00      1.00      1.00       503\n",
            "weighted avg       1.00      1.00      1.00       503\n",
            "\n"
          ]
        },
        {
          "data": {
            "image/png": "[encoded data removed]",
            "text/plain": [
              "<Figure size 640x480 with 2 Axes>"
            ]
          },
          "metadata": {},
          "output_type": "display_data"
        },
        {
          "name": "stdout",
          "output_type": "stream",
          "text": [
            "--------------------------------------------------\n",
            "\n"
          ]
        }
      ],
      "source": [
        "# Menampilkan hasil evaluasi akurasi, presisi, recall, dan F1-Score pada algoritma yang sudah dituning.\n",
        "evaluate_model(best_rf_model, X_test, y_test, \"Tuned Random Forest\")"
      ]
    },
    {
      "cell_type": "code",
      "execution_count": 13,
      "metadata": {
        "id": "7UJNcVP--n7S"
      },
      "outputs": [
        {
          "name": "stdout",
          "output_type": "stream",
          "text": [
            "Model hasil tuning telah disimpan sebagai 'tuning_classification.h5'\n"
          ]
        }
      ],
      "source": [
        "# Menyimpan Model hasil tuning\n",
        "joblib.dump(best_rf_model, 'tuning_classification.h5')\n",
        "print(\"Model hasil tuning telah disimpan sebagai 'tuning_classification.h5'\")"
      ]
    }
  ],
  "metadata": {
    "colab": {
      "provenance": []
    },
    "kernelspec": {
      "display_name": "Python 3",
      "name": "python3"
    },
    "language_info": {
      "codemirror_mode": {
        "name": "ipython",
        "version": 3
      },
      "file_extension": ".py",
      "mimetype": "text/x-python",
      "name": "python",
      "nbconvert_exporter": "python",
      "pygments_lexer": "ipython3",
      "version": "3.13.2"
    }
  },
  "nbformat": 4,
  "nbformat_minor": 0
}
